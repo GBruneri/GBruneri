{
 "cells": [
  {
   "cell_type": "code",
   "execution_count": 16,
   "metadata": {},
   "outputs": [],
   "source": [
    "# Importando bibliotecas necessárias.\n",
    "import pandas as pd\n",
    "import numpy as np\n",
    "import seaborn as sns\n",
    "import matplotlib.pyplot as plt\n",
    "import joblib\n",
    "import random\n",
    "from sklearn.preprocessing import StandardScaler\n",
    "from sklearn.model_selection import train_test_split\n",
    "from sklearn.neighbors import KNeighborsClassifier\n",
    "from sklearn.naive_bayes import BernoulliNB\n",
    "from sklearn.tree import DecisionTreeClassifier\n",
    "from sklearn.metrics import confusion_matrix\n",
    "from sklearn.metrics import accuracy_score\n",
    "from sklearn.metrics import precision_score\n",
    "from sklearn.metrics import recall_score\n",
    "from imblearn.over_sampling import SMOTE\n",
    "from sklearn.metrics import f1_score\n",
    "from sklearn.metrics import roc_curve, roc_auc_score\n"
   ]
  },
  {
   "cell_type": "code",
   "execution_count": 17,
   "metadata": {},
   "outputs": [],
   "source": [
    "# Instânciando o caminho dos dados.\n",
    "dados = r'C:\\Users\\guilh\\OneDrive\\Área de Trabalho\\Coding\\Portif_git\\Churn_Clientes\\Datasets\\db_final.csv'\n",
    "\n",
    "#Criando o Dataframe\n",
    "df_final = pd.read_csv(dados)"
   ]
  },
  {
   "cell_type": "markdown",
   "metadata": {},
   "source": [
    "Como os modelos que serão usados são modelos de classificação, é necessário normalizar a escala dos dados, uma vez que modelos, como o k-vizinho, são sensíveis a escalas."
   ]
  },
  {
   "cell_type": "code",
   "execution_count": 18,
   "metadata": {},
   "outputs": [
    {
     "data": {
      "text/plain": [
       "array([ 1.26156062, -0.53354279, -3.01263163, -0.51661901,  1.59722649,\n",
       "       -0.63326848, -0.52561426, -0.77915457, -0.78252175,  0.7980124 ,\n",
       "       -0.41013355, -1.10825802, -1.31680248, -0.8916107 ,  3.1766498 ,\n",
       "       -0.83217125,  1.50889279, -1.03722104, -0.44633167, -0.44617598,\n",
       "        0.74681319, -0.42402483, -0.428615  ,  1.31296409, -0.48110805,\n",
       "       -0.43883719])"
      ]
     },
     "execution_count": 18,
     "metadata": {},
     "output_type": "execute_result"
    }
   ],
   "source": [
    "# Preparando os dados para aplicação dos modelos.\n",
    "X = df_final.drop('Churn', axis= 1) # Removi apenas a coluna Churn\n",
    "\n",
    "y = df_final['Churn'] # Declarei a coluna Churn como variável dependente.\n",
    "\n",
    "# Criando uma instância normalizadora em função da média e desveio padraão.\n",
    "norma = StandardScaler()\n",
    "\n",
    "# Criando o X normalizado, aplicando a função fit.\n",
    "X_normalizado = norma.fit_transform(X)\n",
    "X_normalizado[0]"
   ]
  },
  {
   "cell_type": "code",
   "execution_count": 19,
   "metadata": {},
   "outputs": [],
   "source": [
    "# Alocando os dados em treino e teste, foi definido uma proporção padrão de 30%  para 70%.\n",
    "X_treino, X_teste, y_treino, y_teste = train_test_split(X_normalizado,y, test_size= 0.3, random_state= 9191)"
   ]
  },
  {
   "cell_type": "code",
   "execution_count": 20,
   "metadata": {},
   "outputs": [
    {
     "data": {
      "text/plain": [
       "array([0, 1, 1, ..., 0, 0, 1], dtype=int64)"
      ]
     },
     "execution_count": 20,
     "metadata": {},
     "output_type": "execute_result"
    }
   ],
   "source": [
    "# Instânciando o algoritimo padrão de knn, definindo a métrica como Eucldiana.\n",
    "knn = KNeighborsClassifier(metric= 'euclidean')\n",
    "\n",
    "# Treinando o modelo.\n",
    "knn.fit(X_treino,y_treino)\n",
    "\n",
    "# Criando um modelo de previsão com base no knn.\n",
    "previsao_knn = knn.predict(X_teste) \n",
    "previsao_knn"
   ]
  },
  {
   "cell_type": "code",
   "execution_count": 21,
   "metadata": {},
   "outputs": [
    {
     "data": {
      "text/plain": [
       "array([0, 1, 1, ..., 1, 1, 1], dtype=int64)"
      ]
     },
     "execution_count": 21,
     "metadata": {},
     "output_type": "execute_result"
    }
   ],
   "source": [
    "# Instânciando o algoritimo padrão de Brnoulli-Naives-Bayes, definindo a binárização em função da media do X_Treino de 0.0017.\n",
    "bnb = BernoulliNB() # Pois o resultado do Churn é binário.\n",
    "\n",
    "# Treinando o modelo.\n",
    "bnb.fit(X_treino,y_treino)\n",
    "\n",
    "# Realizando a previsão do modelo de Bernoulli\n",
    "previsao_bnb = bnb.predict(X_teste)\n",
    "previsao_bnb"
   ]
  },
  {
   "cell_type": "code",
   "execution_count": 22,
   "metadata": {},
   "outputs": [
    {
     "data": {
      "text/plain": [
       "array([1, 1, 1, ..., 0, 1, 1], dtype=int64)"
      ]
     },
     "execution_count": 22,
     "metadata": {},
     "output_type": "execute_result"
    }
   ],
   "source": [
    "# Instânciando o algoritimo padrão de árvore de decisão, definindo a entropia como critério de escolha.\n",
    "dtc= DecisionTreeClassifier(criterion= 'entropy', random_state= 9191)\n",
    "\n",
    "# Treinando o modelo.\n",
    "dtc.fit(X_treino,y_treino)\n",
    "\n",
    "# Realizando a previsão com base em árvore de decisão.\n",
    "previsao_dtc = dtc.predict(X_teste)\n",
    "previsao_dtc"
   ]
  },
  {
   "cell_type": "code",
   "execution_count": 23,
   "metadata": {},
   "outputs": [
    {
     "name": "stdout",
     "output_type": "stream",
     "text": [
      "Matriz de confusão e Acurácia para o modelo knn.\n",
      "[[1198  335]\n",
      " [ 227 1345]]\n",
      "Acurácia: 81.90%\n",
      "Precisão: 80.06%\n",
      "Recall: 85.56%\n",
      "\n",
      "Matriz de confusão e Acurácia para o modelo bnb.\n",
      "[[1143  390]\n",
      " [ 283 1289]]\n",
      "Acurácia: 78.33%\n",
      "Precisão: 76.77%\n",
      "Recall: 82.00%\n",
      "\n",
      "Matriz de confusão e Acurácia para o modelo dtc.\n",
      "[[1178  355]\n",
      " [ 294 1278]]\n",
      "Acurácia: 79.10%\n",
      "Precisão: 78.26%\n",
      "Recallrecall_score: 81.30%\n",
      "\n"
     ]
    }
   ],
   "source": [
    "# Matriz de confusão para o modelo knn.\n",
    "print('Matriz de confusão e Acurácia para o modelo knn.')\n",
    "print(confusion_matrix(y_teste, previsao_knn))\n",
    "print(f'Acurácia: {accuracy_score(y_teste, previsao_knn) * 100:.2f}%')\n",
    "print(f'Precisão: {precision_score(y_teste, previsao_knn) * 100:.2f}%')\n",
    "print(f'Recall: {recall_score(y_teste, previsao_knn) * 100:.2f}%')\n",
    "print()\n",
    "\n",
    "# Matriz de confusão para o modelo bnb.\n",
    "print('Matriz de confusão e Acurácia para o modelo bnb.')\n",
    "print(confusion_matrix(y_teste, previsao_bnb))\n",
    "print(f'Acurácia: {accuracy_score(y_teste, previsao_bnb) * 100:.2f}%')\n",
    "print(f'Precisão: {precision_score(y_teste, previsao_bnb) * 100:.2f}%')\n",
    "print(f'Recall: {recall_score(y_teste, previsao_bnb) * 100:.2f}%')\n",
    "print()\n",
    "\n",
    "# Matriz de confusão para o modelo dtc.\n",
    "print('Matriz de confusão e Acurácia para o modelo dtc.')\n",
    "print(confusion_matrix(y_teste, previsao_dtc))\n",
    "print(f'Acurácia: {accuracy_score(y_teste, previsao_dtc) * 100:.2f}%')\n",
    "print(f'Precisão: {precision_score(y_teste, previsao_dtc) * 100:.2f}%')\n",
    "print(f'Recallrecall_score: {recall_score(y_teste, previsao_dtc) * 100:.2f}%')\n",
    "print()"
   ]
  },
  {
   "cell_type": "code",
   "execution_count": 24,
   "metadata": {},
   "outputs": [
    {
     "name": "stdout",
     "output_type": "stream",
     "text": [
      "F1-score para o modelo KNN: 0.83\n",
      "F1-score para o modelo BernoulliNB: 0.79\n",
      "F1-score para o modelo Decision Tree: 0.80\n"
     ]
    }
   ],
   "source": [
    "# Suponha que você já tenha as previsões (previsao_knn, previsao_bnb, previsao_dtc) e os rótulos verdadeiros (y_teste).\n",
    "\n",
    "# Calcular o F1-score para o modelo KNN\n",
    "f1_knn = f1_score(y_teste, previsao_knn)\n",
    "\n",
    "# Calcular o F1-score para o modelo BernoulliNB\n",
    "f1_bnb = f1_score(y_teste, previsao_bnb)\n",
    "\n",
    "# Calcular o F1-score para o modelo Decision Tree\n",
    "f1_dtc = f1_score(y_teste, previsao_dtc)\n",
    "\n",
    "print(f'F1-score para o modelo KNN: {f1_knn:.2f}')\n",
    "print(f'F1-score para o modelo BernoulliNB: {f1_bnb:.2f}')\n",
    "print(f'F1-score para o modelo Decision Tree: {f1_dtc:.2f}')\n"
   ]
  },
  {
   "cell_type": "code",
   "execution_count": 25,
   "metadata": {},
   "outputs": [
    {
     "data": {
      "image/png": "[encoded data removed]",
      "text/plain": [
       "<Figure size 800x600 with 1 Axes>"
      ]
     },
     "metadata": {},
     "output_type": "display_data"
    }
   ],
   "source": [
    "# Suponha que você tem os modelos já treinados: modelo_knn, modelo_bnb e modelo_dtc\n",
    "\n",
    "# Obtendo as probabilidades de previsão para a classe positiva (1)\n",
    "probas_knn = knn.predict_proba(X_teste)[:, 1]\n",
    "probas_bnb = bnb.predict_proba(X_teste)[:, 1]\n",
    "probas_dtc = dtc.predict_proba(X_teste)[:, 1]\n",
    "\n",
    "# Calculando as taxas de verdadeiros positivos (TPR) e taxas de falsos positivos (FPR) para cada modelo\n",
    "fpr_knn, tpr_knn, _ = roc_curve(y_teste, probas_knn)\n",
    "fpr_bnb, tpr_bnb, _ = roc_curve(y_teste, probas_bnb)\n",
    "fpr_dtc, tpr_dtc, _ = roc_curve(y_teste, probas_dtc)\n",
    "\n",
    "# Calculando a área sob a curva ROC (AUC)\n",
    "auc_knn = roc_auc_score(y_teste, probas_knn)\n",
    "auc_bnb = roc_auc_score(y_teste, probas_bnb)\n",
    "auc_dtc = roc_auc_score(y_teste, probas_dtc)\n",
    "\n",
    "# Plotando a curva ROC para cada modelo\n",
    "plt.figure(figsize=(8, 6))\n",
    "plt.plot(fpr_knn, tpr_knn, label=f'KNN (AUC = {auc_knn:.2f})')\n",
    "plt.plot(fpr_bnb, tpr_bnb, color = 'red', label=f'BernoulliNB (AUC = {auc_bnb:.2f})')\n",
    "plt.plot(fpr_dtc, tpr_dtc, color = 'y', label=f'Decision Tree (AUC = {auc_dtc:.2f})')\n",
    "plt.plot([0, 1], [0, 1], 'k--')\n",
    "plt.xlim([0.0, 1.0])\n",
    "plt.ylim([0.0, 1.05])\n",
    "plt.xlabel('Taxa de Falsos Positivos (FPR)')\n",
    "plt.ylabel('Taxa de Verdadeiros Positivos (TPR)')\n",
    "plt.title('Curva ROC')\n",
    "plt.legend(loc='lower right')\n",
    "plt.show()\n"
   ]
  },
  {
   "cell_type": "markdown",
   "metadata": {},
   "source": [
    "Considerando as métricas envolvidas na análise dos modelos:\n",
    "+ A acurácia mede a proporção de previsões corretas em relação a todas as previsões.  \n",
    "+ A precisão mede a proporção de previsões positivas corretas em relação a todas as previsões positivas.  \n",
    "+ O recall mede a proporção de previsões positivas corretas em relação a todas as instâncias positivas no conjunto de dados.  \n",
    "+ O F1-score fornece uma única métrica que combina precisão e recall, ajudando a avaliar o equilíbrio entre essas duas métricas.  \n",
    "+ Quanto maior a AUC, melhor o desempenho do modelo em separar as classes positiva e negativa. Um valor de AUC de 0,5 indica que o modelo é equivalente a um classificador aleatório, enquanto um valor de AUC de 1,0 indica um classificador perfeito que é capaz de fazer todas as previsões corretas.  \n",
    "\n",
    "Fica evidente que o melhor modelo a ser utilizado é o **KNN.**  \n",
    "Para testar sua capacidade de operação, vamos criar 2 vetores de características que correspondem a 2 clientes hipotéticos. Para garantir que os vetores sejam os mais próximos possíveis de um cliente real, todo o processo foi randomizado e usada uma seed para reprodução."
   ]
  },
  {
   "cell_type": "code",
   "execution_count": 26,
   "metadata": {},
   "outputs": [
    {
     "name": "stdout",
     "output_type": "stream",
     "text": [
      "[['b' 'b' 'b' 'b' 'b' 'b' 'b' 'b' 'b' 'b' 'b' 'i' 'i' 'b' 'b' 'b' 'b' 'b'\n",
      "  'b' 'b' 'b' 'b' 'b' 'b' 'b' 'b']]\n"
     ]
    }
   ],
   "source": [
    "# Crie um array 1x26 preenchido com 'b' representando as 26 features.\n",
    "array = np.full((1, 26), 'b')\n",
    "\n",
    "# Altere o décimo segundo  e o décimo terceiro elemento para 'i', pois correspondem aos valores float do dataframe.\n",
    "array[0, 11:13] = 'i'\n",
    "\n",
    "print(array)"
   ]
  },
  {
   "cell_type": "code",
   "execution_count": 27,
   "metadata": {},
   "outputs": [
    {
     "name": "stdout",
     "output_type": "stream",
     "text": [
      "Previsão para o novo cliente Marcos: 0\n",
      "\n",
      "Previsão para o novo cliente Vanessa: 1\n"
     ]
    }
   ],
   "source": [
    "# Define a semente (seed) como 9191 para o numpy.random\n",
    "np.random.seed(9191)\n",
    "\n",
    "# Array original com 'b' e 'i'\n",
    "original_array = np.array(['b', 'b', 'b', 'b', 'b', 'b', 'b', 'b', 'b', 'b', 'b', 'i', 'i', 'b', 'b', 'b', 'b', 'b', 'b', 'b', 'b', 'b', 'b', 'b', 'b', 'b'])\n",
    "\n",
    "# Crie um novo array para armazenar os valores booleanos e inteiros\n",
    "new_array = np.zeros(26, dtype=object)\n",
    "\n",
    "# Mapeie 'b' para valores booleanos 0 ou 1\n",
    "new_array[original_array == 'b'] = np.random.choice([0, 1], sum(original_array == 'b'))\n",
    "\n",
    "# Mapeie 'i' para valores inteiros entre 0 e 120\n",
    "new_array[original_array == 'i'] = np.random.randint(0, 121, sum(original_array == 'i'))\n",
    "\n",
    "# Converta o novo array em um array numpy\n",
    "X_Marcos = [np.array(new_array)]\n",
    "\n",
    "# Normalizando o vetor caracteristico de teste.\n",
    "X_Marcos_normalizado = norma.transform(pd.DataFrame(X_Marcos, columns= X.columns))\n",
    "\n",
    "# Faz a previsão com o modelo KNN treinado\n",
    "previsao_marcos = knn.predict(X_Marcos_normalizado)\n",
    "\n",
    "# A variável 'previsao_marcos' agora conterá a previsão para o novo cliente fictício (0 para não churn, 1 para churn).\n",
    "print(f'Previsão para o novo cliente Marcos: {previsao_marcos[0]}')\n",
    "\n",
    "print()\n",
    "\n",
    "# Define a semente (seed) como 3 para o numpy.random\n",
    "np.random.seed(3)\n",
    "\n",
    "# Array original com 'b' e 'i'\n",
    "original_array = np.array(['b', 'b', 'b', 'b', 'b', 'b', 'b', 'b', 'b', 'b', 'b', 'i', 'i', 'b', 'b', 'b', 'b', 'b', 'b', 'b', 'b', 'b', 'b', 'b', 'b', 'b'])\n",
    "\n",
    "# Crie um novo array para armazenar os valores booleanos e inteiros\n",
    "new_array = np.zeros(26, dtype=object)\n",
    "\n",
    "# Mapeie 'b' para valores booleanos 0 ou 1\n",
    "new_array[original_array == 'b'] = np.random.choice([0, 1], sum(original_array == 'b'))\n",
    "\n",
    "# Mapeie 'i' para valores inteiros entre 0 e 120\n",
    "new_array[original_array == 'i'] = np.random.randint(0, 121, sum(original_array == 'i'))\n",
    "\n",
    "# Converta o novo array em um array numpy\n",
    "X_Vanessa = [np.array(new_array)]\n",
    "\n",
    "# Normalizando o vetor caracteristico de teste.\n",
    "X_Vanessa_normalizado = norma.transform(pd.DataFrame(X_Vanessa, columns= X.columns))\n",
    "\n",
    "# Faz a previsão com o modelo KNN treinado\n",
    "previsao_vanessa = knn.predict(X_Vanessa_normalizado)\n",
    "\n",
    "# A variável 'previsao_vanessa' agora conterá a previsão para o novo cliente fictício (0 para não churn, 1 para churn).\n",
    "print(f'Previsão para o novo cliente Vanessa: {previsao_vanessa[0]}')\n"
   ]
  },
  {
   "cell_type": "markdown",
   "metadata": {},
   "source": [
    "O modelo, agora treinado, testado e em operação, pode ser apresentado à equipe responsável na empresa. Uma vez que previsões, como as da cliente Vanessa, nas quais obtemos Churn positivo (1), indicam que os clientes deixaram a empresa e, portanto, requerem maior atenção. O próximo passo seria investigar cada feature em busca das variáveis que levam à redução do churn previsto pelo modelo e identificar as possíveis características de clientes com maior adesão."
   ]
  },
  {
   "cell_type": "code",
   "execution_count": 28,
   "metadata": {},
   "outputs": [],
   "source": [
    "# Salve o modelo em um arquivo\n",
    "#joblib.dump(knn, 'modelo_knn.pkl')"
   ]
  },
  {
   "cell_type": "code",
   "execution_count": 29,
   "metadata": {},
   "outputs": [],
   "source": [
    "# Carregue o modelo a partir do arquivo\n",
    "#modelo_carregado = joblib.load('modelo_knn.pkl')\n",
    "\n",
    "#novo_cliente = {Dados do novo cliente}\n",
    "\n",
    "# Pré-processamento dos dados do novo cliente (limpeza, transformação, normalização)\n",
    "# Normalização dos dados do novo cliente usando o StandardScaler.\n",
    "#novo_cliente_normalizado = norma.transform(pd.DataFrame(novo_cliente, columns=X.columns))\n",
    "\n",
    "# Previsão de Churn do modelo.\n",
    "#previsao_nome_do_cliente = modelo_carregado.predict(novo_cliente_normalizado)"
   ]
  }
 ],
 "metadata": {
  "kernelspec": {
   "display_name": "Python 3",
   "language": "python",
   "name": "python3"
  },
  "language_info": {
   "codemirror_mode": {
    "name": "ipython",
    "version": 3
   },
   "file_extension": ".py",
   "mimetype": "text/x-python",
   "name": "python",
   "nbconvert_exporter": "python",
   "pygments_lexer": "ipython3",
   "version": "3.11.4"
  }
 },
 "nbformat": 4,
 "nbformat_minor": 2
}
