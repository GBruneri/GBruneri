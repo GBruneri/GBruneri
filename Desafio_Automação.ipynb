{
  "nbformat": 4,
  "nbformat_minor": 0,
  "metadata": {
    "colab": {
      "provenance": [],
      "authorship_tag": "ABX9TyPvqQHhFFHIlvThWj0tbgrS",
      "include_colab_link": true
    },
    "kernelspec": {
      "name": "python3",
      "display_name": "Python 3"
    },
    "language_info": {
      "name": "python"
    }
  },
  "cells": [
    {
      "cell_type": "markdown",
      "metadata": {
        "id": "view-in-github",
        "colab_type": "text"
      },
      "source": [
        "<a href=\"https://colab.research.google.com/github/GBruneri/Gbruneri/blob/main/Desafio_Automa%C3%A7%C3%A3o.ipynb\" target=\"_parent\"><img src=\"https://colab.research.google.com/assets/colab-badge.svg\" alt=\"Open In Colab\"/></a>"
      ]
    },
    {
      "cell_type": "markdown",
      "source": [
        "#Desafio 1 - Automação de Processos.\n",
        "##Introdução\n",
        "Você faz parte da equipe de Analytics de uma grande marca de vestuário com mais de 25 lojas espalhadas em shoppings de todo o Brasil.\n",
        "\n",
        "##Objetivo\n",
        "Toda semana, você precisa enviar para a diretoria um ranking atualizado com as 25 lojas, contendo 3 informações. Além disso, cada loja tem 1 gerente que precisa receber o resumo das informações da sua loja.\n",
        "\n",
        "1.   Faturamento de cada loja.\n",
        "2.   Quantidade de produtos vendidos de cada loja.\n",
        "3.   Ticket médio dos produtos de cada loja.\n",
        "\n",
        "Cada gerente deve receber no e-mail:\n",
        "\n",
        "4.   Faturamento da sua loja;\n",
        "5.   Quantidade de produtos vendidos da sua loja;\n",
        "6.   Ticket médio dos produtos da sua loja.\n",
        "\n",
        "Esse relatório é sempre enviado como um resumo de todos os dados disponíveis no ano."
      ],
      "metadata": {
        "id": "p9bl5ZBWG_zu"
      }
    },
    {
      "cell_type": "markdown",
      "source": [
        "##Parte I - Explorção e visualização dos dados."
      ],
      "metadata": {
        "id": "h_P7466UJDPi"
      }
    },
    {
      "cell_type": "code",
      "source": [
        "import pandas as pd"
      ],
      "metadata": {
        "id": "HfueECQrIKgl"
      },
      "execution_count": null,
      "outputs": []
    },
    {
      "cell_type": "code",
      "source": [
        "df = pd.read_excel('/content/vendas.xlsx')\n",
        "df.head()"
      ],
      "metadata": {
        "colab": {
          "base_uri": "https://localhost:8080/",
          "height": 206
        },
        "id": "OhsdhkQdJNw0",
        "outputId": "9aef17a5-41ed-4f0e-ba1c-49a8507e9b68"
      },
      "execution_count": null,
      "outputs": [
        {
          "output_type": "execute_result",
          "data": {
            "text/plain": [
              "   Código Venda       Data             ID Loja         Produto  Quantidade  \\\n",
              "0             1 2019-01-01  Iguatemi Esplanada  Sapato Estampa           1   \n",
              "1             1 2019-01-01  Iguatemi Esplanada        Camiseta           2   \n",
              "2             1 2019-01-01  Iguatemi Esplanada   Sapato Xadrez           1   \n",
              "3             2 2019-01-02      Norte Shopping         Relógio           3   \n",
              "4             2 2019-01-02      Norte Shopping    Chinelo Liso           1   \n",
              "\n",
              "   Valor Unitário  Valor Final  \n",
              "0             358          358  \n",
              "1             180          360  \n",
              "2             368          368  \n",
              "3             200          600  \n",
              "4              71           71  "
            ],
            "text/html": [
              "\n",
              "  <div id=\"df-d3777262-bde2-4ac3-ba83-da54c53013b3\" class=\"colab-df-container\">\n",
              "    <div>\n",
              "<style scoped>\n",
              "    .dataframe tbody tr th:only-of-type {\n",
              "        vertical-align: middle;\n",
              "    }\n",
              "\n",
              "    .dataframe tbody tr th {\n",
              "        vertical-align: top;\n",
              "    }\n",
              "\n",
              "    .dataframe thead th {\n",
              "        text-align: right;\n",
              "    }\n",
              "</style>\n",
              "<table border=\"1\" class=\"dataframe\">\n",
              "  <thead>\n",
              "    <tr style=\"text-align: right;\">\n",
              "      <th></th>\n",
              "      <th>Código Venda</th>\n",
              "      <th>Data</th>\n",
              "      <th>ID Loja</th>\n",
              "      <th>Produto</th>\n",
              "      <th>Quantidade</th>\n",
              "      <th>Valor Unitário</th>\n",
              "      <th>Valor Final</th>\n",
              "    </tr>\n",
              "  </thead>\n",
              "  <tbody>\n",
              "    <tr>\n",
              "      <th>0</th>\n",
              "      <td>1</td>\n",
              "      <td>2019-01-01</td>\n",
              "      <td>Iguatemi Esplanada</td>\n",
              "      <td>Sapato Estampa</td>\n",
              "      <td>1</td>\n",
              "      <td>358</td>\n",
              "      <td>358</td>\n",
              "    </tr>\n",
              "    <tr>\n",
              "      <th>1</th>\n",
              "      <td>1</td>\n",
              "      <td>2019-01-01</td>\n",
              "      <td>Iguatemi Esplanada</td>\n",
              "      <td>Camiseta</td>\n",
              "      <td>2</td>\n",
              "      <td>180</td>\n",
              "      <td>360</td>\n",
              "    </tr>\n",
              "    <tr>\n",
              "      <th>2</th>\n",
              "      <td>1</td>\n",
              "      <td>2019-01-01</td>\n",
              "      <td>Iguatemi Esplanada</td>\n",
              "      <td>Sapato Xadrez</td>\n",
              "      <td>1</td>\n",
              "      <td>368</td>\n",
              "      <td>368</td>\n",
              "    </tr>\n",
              "    <tr>\n",
              "      <th>3</th>\n",
              "      <td>2</td>\n",
              "      <td>2019-01-02</td>\n",
              "      <td>Norte Shopping</td>\n",
              "      <td>Relógio</td>\n",
              "      <td>3</td>\n",
              "      <td>200</td>\n",
              "      <td>600</td>\n",
              "    </tr>\n",
              "    <tr>\n",
              "      <th>4</th>\n",
              "      <td>2</td>\n",
              "      <td>2019-01-02</td>\n",
              "      <td>Norte Shopping</td>\n",
              "      <td>Chinelo Liso</td>\n",
              "      <td>1</td>\n",
              "      <td>71</td>\n",
              "      <td>71</td>\n",
              "    </tr>\n",
              "  </tbody>\n",
              "</table>\n",
              "</div>\n",
              "    <div class=\"colab-df-buttons\">\n",
              "\n",
              "  <div class=\"colab-df-container\">\n",
              "    <button class=\"colab-df-convert\" onclick=\"convertToInteractive('df-d3777262-bde2-4ac3-ba83-da54c53013b3')\"\n",
              "            title=\"Convert this dataframe to an interactive table.\"\n",
              "            style=\"display:none;\">\n",
              "\n",
              "  <svg xmlns=\"http://www.w3.org/2000/svg\" height=\"24px\" viewBox=\"0 -960 960 960\">\n",
              "    <path d=\"M120-120v-720h720v720H120Zm60-500h600v-160H180v160Zm220 220h160v-160H400v160Zm0 220h160v-160H400v160ZM180-400h160v-160H180v160Zm440 0h160v-160H620v160ZM180-180h160v-160H180v160Zm440 0h160v-160H620v160Z\"/>\n",
              "  </svg>\n",
              "    </button>\n",
              "\n",
              "  <style>\n",
              "    .colab-df-container {\n",
              "      display:flex;\n",
              "      gap: 12px;\n",
              "    }\n",
              "\n",
              "    .colab-df-convert {\n",
              "      background-color: #E8F0FE;\n",
              "      border: none;\n",
              "      border-radius: 50%;\n",
              "      cursor: pointer;\n",
              "      display: none;\n",
              "      fill: #1967D2;\n",
              "      height: 32px;\n",
              "      padding: 0 0 0 0;\n",
              "      width: 32px;\n",
              "    }\n",
              "\n",
              "    .colab-df-convert:hover {\n",
              "      background-color: #E2EBFA;\n",
              "      box-shadow: 0px 1px 2px rgba(60, 64, 67, 0.3), 0px 1px 3px 1px rgba(60, 64, 67, 0.15);\n",
              "      fill: #174EA6;\n",
              "    }\n",
              "\n",
              "    .colab-df-buttons div {\n",
              "      margin-bottom: 4px;\n",
              "    }\n",
              "\n",
              "    [theme=dark] .colab-df-convert {\n",
              "      background-color: #3B4455;\n",
              "      fill: #D2E3FC;\n",
              "    }\n",
              "\n",
              "    [theme=dark] .colab-df-convert:hover {\n",
              "      background-color: #434B5C;\n",
              "      box-shadow: 0px 1px 3px 1px rgba(0, 0, 0, 0.15);\n",
              "      filter: drop-shadow(0px 1px 2px rgba(0, 0, 0, 0.3));\n",
              "      fill: #FFFFFF;\n",
              "    }\n",
              "  </style>\n",
              "\n",
              "    <script>\n",
              "      const buttonEl =\n",
              "        document.querySelector('#df-d3777262-bde2-4ac3-ba83-da54c53013b3 button.colab-df-convert');\n",
              "      buttonEl.style.display =\n",
              "        google.colab.kernel.accessAllowed ? 'block' : 'none';\n",
              "\n",
              "      async function convertToInteractive(key) {\n",
              "        const element = document.querySelector('#df-d3777262-bde2-4ac3-ba83-da54c53013b3');\n",
              "        const dataTable =\n",
              "          await google.colab.kernel.invokeFunction('convertToInteractive',\n",
              "                                                    [key], {});\n",
              "        if (!dataTable) return;\n",
              "\n",
              "        const docLinkHtml = 'Like what you see? Visit the ' +\n",
              "          '<a target=\"_blank\" href=https://colab.research.google.com/notebooks/data_table.ipynb>data table notebook</a>'\n",
              "          + ' to learn more about interactive tables.';\n",
              "        element.innerHTML = '';\n",
              "        dataTable['output_type'] = 'display_data';\n",
              "        await google.colab.output.renderOutput(dataTable, element);\n",
              "        const docLink = document.createElement('div');\n",
              "        docLink.innerHTML = docLinkHtml;\n",
              "        element.appendChild(docLink);\n",
              "      }\n",
              "    </script>\n",
              "  </div>\n",
              "\n",
              "\n",
              "<div id=\"df-9dbd1695-a8ba-4ec8-a002-80bf38c8e1d7\">\n",
              "  <button class=\"colab-df-quickchart\" onclick=\"quickchart('df-9dbd1695-a8ba-4ec8-a002-80bf38c8e1d7')\"\n",
              "            title=\"Suggest charts\"\n",
              "            style=\"display:none;\">\n",
              "\n",
              "<svg xmlns=\"http://www.w3.org/2000/svg\" height=\"24px\"viewBox=\"0 0 24 24\"\n",
              "     width=\"24px\">\n",
              "    <g>\n",
              "        <path d=\"M19 3H5c-1.1 0-2 .9-2 2v14c0 1.1.9 2 2 2h14c1.1 0 2-.9 2-2V5c0-1.1-.9-2-2-2zM9 17H7v-7h2v7zm4 0h-2V7h2v10zm4 0h-2v-4h2v4z\"/>\n",
              "    </g>\n",
              "</svg>\n",
              "  </button>\n",
              "\n",
              "<style>\n",
              "  .colab-df-quickchart {\n",
              "      --bg-color: #E8F0FE;\n",
              "      --fill-color: #1967D2;\n",
              "      --hover-bg-color: #E2EBFA;\n",
              "      --hover-fill-color: #174EA6;\n",
              "      --disabled-fill-color: #AAA;\n",
              "      --disabled-bg-color: #DDD;\n",
              "  }\n",
              "\n",
              "  [theme=dark] .colab-df-quickchart {\n",
              "      --bg-color: #3B4455;\n",
              "      --fill-color: #D2E3FC;\n",
              "      --hover-bg-color: #434B5C;\n",
              "      --hover-fill-color: #FFFFFF;\n",
              "      --disabled-bg-color: #3B4455;\n",
              "      --disabled-fill-color: #666;\n",
              "  }\n",
              "\n",
              "  .colab-df-quickchart {\n",
              "    background-color: var(--bg-color);\n",
              "    border: none;\n",
              "    border-radius: 50%;\n",
              "    cursor: pointer;\n",
              "    display: none;\n",
              "    fill: var(--fill-color);\n",
              "    height: 32px;\n",
              "    padding: 0;\n",
              "    width: 32px;\n",
              "  }\n",
              "\n",
              "  .colab-df-quickchart:hover {\n",
              "    background-color: var(--hover-bg-color);\n",
              "    box-shadow: 0 1px 2px rgba(60, 64, 67, 0.3), 0 1px 3px 1px rgba(60, 64, 67, 0.15);\n",
              "    fill: var(--button-hover-fill-color);\n",
              "  }\n",
              "\n",
              "  .colab-df-quickchart-complete:disabled,\n",
              "  .colab-df-quickchart-complete:disabled:hover {\n",
              "    background-color: var(--disabled-bg-color);\n",
              "    fill: var(--disabled-fill-color);\n",
              "    box-shadow: none;\n",
              "  }\n",
              "\n",
              "  .colab-df-spinner {\n",
              "    border: 2px solid var(--fill-color);\n",
              "    border-color: transparent;\n",
              "    border-bottom-color: var(--fill-color);\n",
              "    animation:\n",
              "      spin 1s steps(1) infinite;\n",
              "  }\n",
              "\n",
              "  @keyframes spin {\n",
              "    0% {\n",
              "      border-color: transparent;\n",
              "      border-bottom-color: var(--fill-color);\n",
              "      border-left-color: var(--fill-color);\n",
              "    }\n",
              "    20% {\n",
              "      border-color: transparent;\n",
              "      border-left-color: var(--fill-color);\n",
              "      border-top-color: var(--fill-color);\n",
              "    }\n",
              "    30% {\n",
              "      border-color: transparent;\n",
              "      border-left-color: var(--fill-color);\n",
              "      border-top-color: var(--fill-color);\n",
              "      border-right-color: var(--fill-color);\n",
              "    }\n",
              "    40% {\n",
              "      border-color: transparent;\n",
              "      border-right-color: var(--fill-color);\n",
              "      border-top-color: var(--fill-color);\n",
              "    }\n",
              "    60% {\n",
              "      border-color: transparent;\n",
              "      border-right-color: var(--fill-color);\n",
              "    }\n",
              "    80% {\n",
              "      border-color: transparent;\n",
              "      border-right-color: var(--fill-color);\n",
              "      border-bottom-color: var(--fill-color);\n",
              "    }\n",
              "    90% {\n",
              "      border-color: transparent;\n",
              "      border-bottom-color: var(--fill-color);\n",
              "    }\n",
              "  }\n",
              "</style>\n",
              "\n",
              "  <script>\n",
              "    async function quickchart(key) {\n",
              "      const quickchartButtonEl =\n",
              "        document.querySelector('#' + key + ' button');\n",
              "      quickchartButtonEl.disabled = true;  // To prevent multiple clicks.\n",
              "      quickchartButtonEl.classList.add('colab-df-spinner');\n",
              "      try {\n",
              "        const charts = await google.colab.kernel.invokeFunction(\n",
              "            'suggestCharts', [key], {});\n",
              "      } catch (error) {\n",
              "        console.error('Error during call to suggestCharts:', error);\n",
              "      }\n",
              "      quickchartButtonEl.classList.remove('colab-df-spinner');\n",
              "      quickchartButtonEl.classList.add('colab-df-quickchart-complete');\n",
              "    }\n",
              "    (() => {\n",
              "      let quickchartButtonEl =\n",
              "        document.querySelector('#df-9dbd1695-a8ba-4ec8-a002-80bf38c8e1d7 button');\n",
              "      quickchartButtonEl.style.display =\n",
              "        google.colab.kernel.accessAllowed ? 'block' : 'none';\n",
              "    })();\n",
              "  </script>\n",
              "</div>\n",
              "\n",
              "    </div>\n",
              "  </div>\n"
            ],
            "application/vnd.google.colaboratory.intrinsic+json": {
              "type": "dataframe",
              "variable_name": "df"
            }
          },
          "metadata": {},
          "execution_count": 2
        }
      ]
    },
    {
      "cell_type": "code",
      "source": [
        "df.info()"
      ],
      "metadata": {
        "colab": {
          "base_uri": "https://localhost:8080/"
        },
        "id": "ljhFdhDUJWnT",
        "outputId": "f2bd7782-4e36-46b9-ddb0-73070b09b76c"
      },
      "execution_count": null,
      "outputs": [
        {
          "output_type": "stream",
          "name": "stdout",
          "text": [
            "<class 'pandas.core.frame.DataFrame'>\n",
            "RangeIndex: 100999 entries, 0 to 100998\n",
            "Data columns (total 7 columns):\n",
            " #   Column          Non-Null Count   Dtype         \n",
            "---  ------          --------------   -----         \n",
            " 0   Código Venda    100999 non-null  int64         \n",
            " 1   Data            100999 non-null  datetime64[ns]\n",
            " 2   ID Loja         100999 non-null  object        \n",
            " 3   Produto         100999 non-null  object        \n",
            " 4   Quantidade      100999 non-null  int64         \n",
            " 5   Valor Unitário  100999 non-null  int64         \n",
            " 6   Valor Final     100999 non-null  int64         \n",
            "dtypes: datetime64[ns](1), int64(4), object(2)\n",
            "memory usage: 5.4+ MB\n"
          ]
        }
      ]
    },
    {
      "cell_type": "markdown",
      "source": [
        "## Parte II - Coletando Informações"
      ],
      "metadata": {
        "id": "1d4EXEjoMILm"
      }
    },
    {
      "cell_type": "markdown",
      "source": [
        "### 1) Faturamento por Loja"
      ],
      "metadata": {
        "id": "sGwFa0XJMh_8"
      }
    },
    {
      "cell_type": "code",
      "source": [
        "faturamento_loja = df[['ID Loja', 'Valor Final']].groupby('ID Loja').sum()\n",
        "faturamento_loja = faturamento_loja.sort_values(by='Valor Final', ascending=False)\n",
        "print(faturamento_loja)\n"
      ],
      "metadata": {
        "colab": {
          "base_uri": "https://localhost:8080/"
        },
        "id": "65nhscYZMkni",
        "outputId": "33be95c9-9341-4e28-ee05-8538da76e7d1"
      },
      "execution_count": null,
      "outputs": [
        {
          "output_type": "stream",
          "name": "stdout",
          "text": [
            "                                  Valor Final\n",
            "ID Loja                                      \n",
            "Iguatemi Campinas                     1762419\n",
            "Shopping Vila Velha                   1731167\n",
            "Bourbon Shopping SP                   1726110\n",
            "Rio Mar Recife                        1722766\n",
            "Shopping SP Market                    1721763\n",
            "Palladium Shopping Curitiba           1721120\n",
            "Norte Shopping                        1711968\n",
            "Ribeirão Shopping                     1707122\n",
            "Iguatemi Esplanada                    1699681\n",
            "Rio Mar Shopping Fortaleza            1698430\n",
            "Shopping Center Leste Aricanduva      1682870\n",
            "Novo Shopping Ribeirão Preto          1678225\n",
            "Shopping Iguatemi Fortaleza           1674824\n",
            "Center Shopping Uberlândia            1668921\n",
            "Shopping União de Osasco              1663770\n",
            "Shopping Barra                        1653103\n",
            "Passei das Águas Shopping             1649014\n",
            "Shopping Eldorado                     1648111\n",
            "Salvador Shopping                     1646739\n",
            "Shopping Center Interlagos            1640486\n",
            "Shopping Ibirapuera                   1635060\n",
            "Parque Dom Pedro Shopping             1631630\n",
            "Shopping Recife                       1624879\n",
            "Shopping Midway Mall                  1590441\n",
            "Shopping Morumbi                      1586444\n"
          ]
        }
      ]
    },
    {
      "cell_type": "markdown",
      "source": [
        "###2) Quantidade de produtos vendidos em cada Loja."
      ],
      "metadata": {
        "id": "eEcaLUKKPC39"
      }
    },
    {
      "cell_type": "code",
      "source": [
        "df_produtos_vend = df[['ID Loja', 'Quantidade']].groupby('ID Loja').sum()\n",
        "df_produtos_vend = df_produtos_vend.sort_values(by='Quantidade', ascending=False)\n",
        "print(df_produtos_vend)"
      ],
      "metadata": {
        "colab": {
          "base_uri": "https://localhost:8080/"
        },
        "id": "4k0DHuz3PLef",
        "outputId": "c4b6f603-55d5-41e8-f1a9-eb8c98b3c66f"
      },
      "execution_count": null,
      "outputs": [
        {
          "output_type": "stream",
          "name": "stdout",
          "text": [
            "                                  Quantidade\n",
            "ID Loja                                     \n",
            "Shopping Vila Velha                     9224\n",
            "Palladium Shopping Curitiba             9091\n",
            "Norte Shopping                          9014\n",
            "Shopping Center Leste Aricanduva        8938\n",
            "Rio Mar Shopping Fortaleza              8937\n",
            "Iguatemi Campinas                       8935\n",
            "Shopping SP Market                      8927\n",
            "Rio Mar Recife                          8863\n",
            "Bourbon Shopping SP                     8863\n",
            "Ribeirão Shopping                       8825\n",
            "Novo Shopping Ribeirão Preto            8751\n",
            "Shopping União de Osasco                8730\n",
            "Shopping Ibirapuera                     8723\n",
            "Shopping Eldorado                       8719\n",
            "Salvador Shopping                       8698\n",
            "Shopping Center Interlagos              8675\n",
            "Shopping Barra                          8638\n",
            "Shopping Iguatemi Fortaleza             8629\n",
            "Center Shopping Uberlândia              8627\n",
            "Passei das Águas Shopping               8618\n",
            "Shopping Recife                         8581\n",
            "Iguatemi Esplanada                      8580\n",
            "Shopping Morumbi                        8508\n",
            "Parque Dom Pedro Shopping               8388\n",
            "Shopping Midway Mall                    8206\n"
          ]
        }
      ]
    },
    {
      "cell_type": "markdown",
      "source": [
        "### 3) Ticket médio dos produtos de cada Loja."
      ],
      "metadata": {
        "id": "sqdR3YrLQLBI"
      }
    },
    {
      "cell_type": "code",
      "source": [
        "tkt_med =( faturamento_loja['Valor Final'] / df_produtos_vend['Quantidade']).to_frame('Ticket Médio')\n",
        "tkt_med = tkt_med.sort_values(by = 'Ticket Médio', ascending = False )\n",
        "print(tkt_med)"
      ],
      "metadata": {
        "colab": {
          "base_uri": "https://localhost:8080/"
        },
        "id": "dy4A9Lj0TQjh",
        "outputId": "a22991fa-9fe7-40a1-dbe7-2745bf6f7b63"
      },
      "execution_count": null,
      "outputs": [
        {
          "output_type": "stream",
          "name": "stdout",
          "text": [
            "                                  Ticket Médio\n",
            "ID Loja                                       \n",
            "Iguatemi Esplanada                  198.098019\n",
            "Iguatemi Campinas                   197.248909\n",
            "Bourbon Shopping SP                 194.754598\n",
            "Parque Dom Pedro Shopping           194.519552\n",
            "Rio Mar Recife                      194.377299\n",
            "Shopping Iguatemi Fortaleza         194.092479\n",
            "Shopping Midway Mall                193.814404\n",
            "Center Shopping Uberlândia          193.453228\n",
            "Ribeirão Shopping                   193.441586\n",
            "Shopping SP Market                  192.871401\n",
            "Novo Shopping Ribeirão Preto        191.775226\n",
            "Shopping Barra                      191.375666\n",
            "Passei das Águas Shopping           191.345324\n",
            "Shopping União de Osasco            190.580756\n",
            "Rio Mar Shopping Fortaleza          190.044758\n",
            "Norte Shopping                      189.923231\n",
            "Shopping Recife                     189.357767\n",
            "Salvador Shopping                   189.323868\n",
            "Palladium Shopping Curitiba         189.321307\n",
            "Shopping Center Interlagos          189.105014\n",
            "Shopping Eldorado                   189.025232\n",
            "Shopping Center Leste Aricanduva    188.282614\n",
            "Shopping Vila Velha                 187.680724\n",
            "Shopping Ibirapuera                 187.442394\n",
            "Shopping Morumbi                    186.464974\n"
          ]
        }
      ]
    },
    {
      "cell_type": "code",
      "source": [
        "# Criar a coluna 'Mês' a partir da coluna 'Data'\n",
        "df['Mês'] = df['Data'].dt.to_period('M')\n",
        "\n",
        "# Agrupar os dados por 'ID Loja' e 'Mês' e calcular o faturamento total e o total de produtos vendidos\n",
        "faturamento_mensal = df.groupby(['ID Loja', 'Mês'])[['Valor Final', 'Quantidade']].sum()\n",
        "\n",
        "# Calcular o ticket médio mensal\n",
        "faturamento_mensal['Ticket Médio Mensal'] = faturamento_mensal['Valor Final'] / faturamento_mensal['Quantidade']\n",
        "\n",
        "print(faturamento_mensal)\n"
      ],
      "metadata": {
        "colab": {
          "base_uri": "https://localhost:8080/"
        },
        "id": "v7GDx0dtRJRM",
        "outputId": "d39f8855-bbab-4e0a-cf70-79b10bd0cfa0"
      },
      "execution_count": null,
      "outputs": [
        {
          "output_type": "stream",
          "name": "stdout",
          "text": [
            "                             Valor Final  Quantidade  Ticket Médio\n",
            "ID Loja             Mês                                           \n",
            "Bourbon Shopping SP 2019-01       132961         746    178.231903\n",
            "                    2019-02       140183         754    185.919098\n",
            "                    2019-03       160322         837    191.543608\n",
            "                    2019-04       166265         806    206.284119\n",
            "                    2019-05       139772         690    202.568116\n",
            "...                                  ...         ...           ...\n",
            "Shopping Vila Velha 2019-08       156833         871    180.060850\n",
            "                    2019-09       148111         765    193.609150\n",
            "                    2019-10       148538         857    173.323221\n",
            "                    2019-11       190789         940    202.967021\n",
            "                    2019-12       115896         605    191.563636\n",
            "\n",
            "[300 rows x 3 columns]\n"
          ]
        }
      ]
    },
    {
      "cell_type": "markdown",
      "source": [
        "### 4) Automação dos e-mails."
      ],
      "metadata": {
        "id": "48lL6rO8YIH_"
      }
    },
    {
      "cell_type": "markdown",
      "source": [
        "Para automatizar o envio de e-mails usando o servidor SMTP do Gmail, siga estes passos:\n",
        "\n",
        "Acesse o link https://www.google.com/settings/security/lesssecureapps e habilite o acesso de aplicativos menos seguros. Isso permite que o Google realize o login via smtplib do Python.\n",
        "\n",
        "Por padrão, o Gmail não permite o envio de e-mails através de códigos. Portanto, acesse também o link https://accounts.google.com/DisplayUnlockCaptcha e clique em 'continuar' para desabilitar o bloqueio de aplicativos.\n",
        "\n",
        "Para criar uma função para automatizar o envio de e-mails, crie uma função chamada send_email que recebe dois parâmetros: uma tabela com o relatório a ser enviado e o nome da respectiva loja para o qual o relatório foi feito."
      ],
      "metadata": {
        "id": "pLgXhkF2avVl"
      }
    },
    {
      "cell_type": "code",
      "source": [
        "import smtplib\n",
        "import email.message\n",
        "\n",
        "def send_email(df, store_name):\n",
        "    # Criando instância de objeto da mensagem\n",
        "    msg = email.message.Message()\n",
        "    message = f'''\n",
        "    <p>Prezados, segue o relatório de vendas de sua loja.</p>\n",
        "    {df.to_html()}\n",
        "    '''\n",
        "\n",
        "    # Configurando os parâmetros da mensagem\n",
        "    msg['Subject'] = f'Relatório - {store_name}'\n",
        "    msg['From'] = 'remetente@gmail.com'\n",
        "    msg['To'] = 'destinatario@email.com'\n",
        "    password = 'senha_do_gmail_do_remetente'\n",
        "\n",
        "    # Adicionado cabeçalho e corpo do email\n",
        "    msg.add_header('Content-Type', 'text/html')\n",
        "    msg.set_payload(message)\n",
        "\n",
        "    # Criando e configurando servidor\n",
        "    server = smtplib.SMTP('smtp.gmail.com:587')\n",
        "    server.starttls()\n",
        "    server.login(msg['From'], password)\n",
        "    # Enviando email através do servidor\n",
        "    server.sendmail(msg['From'], [msg['To']], msg.as_string().encode('utf-8'))\n",
        "    server.quit()"
      ],
      "metadata": {
        "id": "vp1lequbYSRz"
      },
      "execution_count": null,
      "outputs": []
    },
    {
      "cell_type": "markdown",
      "source": [
        "#### E-mail para diretoria\n",
        "O e-mail que deve ser enviado a diretoria precisa conter um ranking com todas as informações de todas as lojas. Para isso, basta agrupar toda a informação em uma única tabela."
      ],
      "metadata": {
        "id": "dOp2aiXAa1ew"
      }
    },
    {
      "cell_type": "code",
      "source": [
        "df_tabela = faturamento_loja.join(df_produtos_vend).join(tkt_med)\n",
        "df_tabela = df_tabela.sort_values(by='Valor Final', ascending=False)\n",
        "send_email(df_tabela, 'Todas as lojas')"
      ],
      "metadata": {
        "id": "VrLcpCzAa3vd"
      },
      "execution_count": null,
      "outputs": []
    },
    {
      "cell_type": "markdown",
      "source": [
        "####E-mail para gerentes\n",
        "Esse e-mail deve enviar o relatório de vendas de cada empresa para seu respectivo gerente. O relatório deve conter o faturamento, quantidade de produtos vendidos e o ticket médio de cada loja individualmente. Então supondo que o arquivo possua uma lista com os e-mails dos gerentes, essa poderia ser anexadao a planilha e usado para automatizar todo o processo."
      ],
      "metadata": {
        "id": "3Bonuc1Pa4na"
      }
    },
    {
      "cell_type": "code",
      "source": [
        "store = df['ID Loja'].unique()\n",
        "email = df['Email'].unique()\n",
        "\n",
        "for i, s in enumerate(store):\n",
        "    df_store = df.loc[df['ID Loja'] == s, ['ID Loja','Quantidade','Valor Final']]\n",
        "    df_store = df_store.groupby('ID Loja').sum()\n",
        "    df_store['Ticket Médio'] = df_store['Valor Final'] / df_store['Quantidade']\n",
        "    send_email(df_store, s, email[i])"
      ],
      "metadata": {
        "id": "7P-mWx16a7Be"
      },
      "execution_count": null,
      "outputs": []
    }
  ]
}