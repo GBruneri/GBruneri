{
  "nbformat": 4,
  "nbformat_minor": 0,
  "metadata": {
    "colab": {
      "provenance": [],
      "collapsed_sections": [
        "9p-COtnwIVvk",
        "6gsJkeL3IHs3"
      ],
      "authorship_tag": "ABX9TyPVsJx8JEA48tUW1VvimNiv",
      "include_colab_link": true
    },
    "kernelspec": {
      "name": "python3",
      "display_name": "Python 3"
    },
    "language_info": {
      "name": "python"
    }
  },
  "cells": [
    {
      "cell_type": "markdown",
      "metadata": {
        "id": "view-in-github",
        "colab_type": "text"
      },
      "source": [
        "<a href=\"https://colab.research.google.com/github/GBruneri/Myrep/blob/main/CaseC6.ipynb\" target=\"_parent\"><img src=\"https://colab.research.google.com/assets/colab-badge.svg\" alt=\"Open In Colab\"/></a>"
      ]
    },
    {
      "cell_type": "markdown",
      "source": [
        "# Case C6 Bank - Data Science Jr.- Candidato: Guilherme Bruneri\n",
        "\n",
        "## Introdução: Case CPF\n",
        "\n",
        "Usando bibliotecas científicas em Python, crie um validador de CPF no Jupyter Notebook. Valide os números de 0 a 10.000.000. Otimize seu código e meça a diferença de velocidade. Tenha em mente o motivo de suas decisões para a entrevista.\n",
        "\n",
        "## Proposta de resolução:\n",
        "Efetuei três propostas de resolução para fins de comparação de otimização. Deixo como resposta final e formal o 3º método com tensorflow, o mais otimizado.\n",
        "\n",
        " O motivo das escolhas são baseadas em otimização de vetor e tensor.\n",
        " O Numpy é otimizado para operações vetorizadas, o que significa que ele pode executar operações em arrays inteiros de dados de uma só vez. Isso é mais eficiente do que iterar sobre cada elemento em um loop em Python puro.\n",
        "\n",
        " O TensorFlow utiliza grafos computacionais para representar cálculos e otimizar a execução das operações. Ele pode otimizar a execução de operações em tensores, distribuir cálculos em diferentes dispositivos (como CPUs e GPUs) e até mesmo realizar paralelismo automático em alguns casos. Isso permite que o TensorFlow seja altamente otimizado para computação numérica e eficiente em termos de recursos."
      ],
      "metadata": {
        "id": "IAxXD8nWHsIl"
      }
    },
    {
      "cell_type": "markdown",
      "source": [
        "## Requisitos"
      ],
      "metadata": {
        "id": "9p-COtnwIVvk"
      }
    },
    {
      "cell_type": "code",
      "source": [
        "# Bibliotecas utilizadas e versões.\n",
        "import numpy as np # Versão utilizada 1.25.2\n",
        "import tensorflow as tf # Versão utilizada  2.15.0\n",
        "# As demais bibliotecas seguem a mesma versão do Python versão 3.10.12\n",
        "import time\n",
        "import random\n",
        "# Obs: todos podem ser executados diretamente no ambiente do google colaboratory."
      ],
      "metadata": {
        "id": "_7eyILAxeHF6"
      },
      "execution_count": null,
      "outputs": []
    },
    {
      "cell_type": "markdown",
      "source": [
        "## Construção nativa\n",
        "\n",
        "Aqui você encontrará a implementação do validador de CPF usando Python puro."
      ],
      "metadata": {
        "id": "H3MYoMO6H5jB"
      }
    },
    {
      "cell_type": "code",
      "source": [
        "import random\n",
        "\n",
        "def validar_cpf(cpf):\n",
        "    \"\"\"\n",
        "    Função para validar um CPF.\n",
        "\n",
        "    Args:\n",
        "    - cpf (list): Lista de inteiros representando um CPF.\n",
        "\n",
        "    Returns:\n",
        "    - bool: True se o CPF for válido, False caso contrário.\n",
        "    \"\"\"\n",
        "    # Verifica se o CPF tem 11 dígitos\n",
        "    if len(cpf) != 11:\n",
        "        return False\n",
        "\n",
        "    # Verifica se todos os dígitos são iguais\n",
        "    if len(set(cpf)) == 1:\n",
        "        return False\n",
        "\n",
        "    # Calcula o primeiro dígito verificador\n",
        "    soma = sum(cpf[i] * (10 - i) for i in range(9))\n",
        "    digito_1 = 11 - (soma % 11)\n",
        "    digito_1 = 0 if digito_1 > 9 else digito_1\n",
        "\n",
        "    # Calcula o segundo dígito verificador\n",
        "    soma = sum(cpf[i+1] * (11 - i) for i in range(9))\n",
        "    digito_2 = 11 - (soma % 11)\n",
        "    digito_2 = 0 if digito_2 > 9 else digito_2\n",
        "\n",
        "    # Verifica se os dígitos verificadores estão corretos\n",
        "    return cpf[9] == digito_1 and cpf[10] == digito_2\n",
        "\n",
        "def gerar(quantidade=1):\n",
        "    \"\"\"\n",
        "    Função para gerar uma lista de CPFs aleatórios.\n",
        "\n",
        "    Args:\n",
        "    - quantidade (int): Número de CPFs a serem gerados. Default é 1.\n",
        "\n",
        "    Returns:\n",
        "    - list: Lista de CPFs gerados como listas de inteiros.\n",
        "    \"\"\"\n",
        "    cpfs = [] # Armazena os CPFs criados.\n",
        "\n",
        "    # Loop de geração de CPFs.\n",
        "    for _ in range(quantidade):\n",
        "        cpf = [random.randint(0, 9) for _ in range(11)]\n",
        "\n",
        "        # Adicionando o CPF à lista\n",
        "        cpfs.append(cpf)\n",
        "\n",
        "    return cpfs\n",
        "\n",
        "# Medir o tempo de execução para gerar e validar os CPFs.\n",
        "start_time = time.time()\n",
        "\n",
        "# Define a quantidade de CPFs gerados.\n",
        "quantidade = 10000000\n",
        "print(f\"Gerando e validando {quantidade} CPFs aleatórios...\")\n",
        "lista_de_cpfs = gerar(quantidade=quantidade)\n",
        "\n",
        "# Contabiliza os CPFs válidos gerados.\n",
        "cpfs_validos = [cpf for cpf in lista_de_cpfs if validar_cpf(cpf)]\n",
        "\n",
        "# Encerramento do cronômetro e medição temporal.\n",
        "end_time = time.time()\n",
        "elapsed_time = end_time - start_time\n",
        "\n",
        "print(\"CPFs gerados e validados com sucesso!\")\n",
        "print(f\"Tempo total: {elapsed_time} segundos\")\n",
        "print(f\"Total de CPFs válidos: {len(cpfs_validos)} de {quantidade} gerados.\")\n"
      ],
      "metadata": {
        "colab": {
          "base_uri": "https://localhost:8080/"
        },
        "id": "gPjkEAnscar4",
        "outputId": "25f0776a-c2ec-4dfa-a98e-55f3e9a6ac28"
      },
      "execution_count": null,
      "outputs": [
        {
          "output_type": "stream",
          "name": "stdout",
          "text": [
            "Gerando e validando 10000000 CPFs aleatórios...\n",
            "CPFs gerados e validados com sucesso!\n",
            "Tempo total: 170.23130893707275 segundos\n",
            "Total de CPFs válidos: 99666 de 10000000 gerados.\n"
          ]
        }
      ]
    },
    {
      "cell_type": "markdown",
      "source": [
        "\n",
        "## Construção com biblioteca científica: Numpy\n",
        "\n",
        "Esta seção apresenta o validador de CPF otimizado usando a biblioteca científica Numpy."
      ],
      "metadata": {
        "id": "kx4Ce0EGIA-I"
      }
    },
    {
      "cell_type": "code",
      "source": [
        "def gerar_e_validar_cpfs_numpy(quantidade=1):\n",
        "    \"\"\"\n",
        "    Gera e valida uma quantidade especificada de CPFs aleatórios usando a biblioteca NumPy.\n",
        "\n",
        "    Args:\n",
        "    - quantidade (int): Número de CPFs a serem gerados e validados. O padrão é 1.\n",
        "\n",
        "    Returns:\n",
        "    - numpy.ndarray: Array booleano indicando os CPFs válidos. True indica um CPF válido, False indica um CPF inválido.\n",
        "    \"\"\"\n",
        "    cpfs_validos = np.empty(quantidade, dtype=bool) # Array booleano para armazenar os CPFs válidos\n",
        "\n",
        "    for i in range(quantidade):\n",
        "        # Gerar CPF aleatório de 11 dígitos usando numpy\n",
        "        cpf = np.random.randint(0, 10, size=11)\n",
        "\n",
        "        # Calcular o primeiro dígito verificador\n",
        "        pesos = np.array([10, 9, 8, 7, 6, 5, 4, 3, 2])\n",
        "        soma = np.sum(cpf[:9] * pesos)\n",
        "        digito_1 = 11 - (soma % 11)\n",
        "        digito_1 = 0 if digito_1 > 9 else digito_1\n",
        "\n",
        "        # Calcular o segundo dígito verificador\n",
        "        soma = np.sum(cpf[1:10] * pesos)\n",
        "        digito_2 = 11 - (soma % 11)\n",
        "        digito_2 = 0 if digito_2 > 9 else digito_2\n",
        "\n",
        "        # Verifica se o CPF é válido e armazena no array de CPFs válidos\n",
        "        cpfs_validos[i] = cpf[-2] == digito_1 and cpf[-1] == digito_2\n",
        "\n",
        "    return cpfs_validos\n",
        "\n",
        "# Início do cronomêtro\n",
        "start_time = time.time()\n",
        "\n",
        "# Quantidade de CPFS a serem gerados e validados\n",
        "quantidade = 10000000\n",
        "\n",
        "# Chamando a função\n",
        "cpfs_validos = gerar_e_validar_cpfs_numpy(quantidade=quantidade)\n",
        "\n",
        "# Fim do procedimento e do cronomêtro\n",
        "end_time = time.time()\n",
        "elapsed_time = end_time - start_time\n",
        "\n",
        "# Imprimindo os resultados\n",
        "print(\"CPFs gerados e validados com sucesso!\")\n",
        "print(f\"Tempo total: {elapsed_time} segundos\")\n",
        "print(f\"Total de CPFs válidos: {np.sum(cpfs_validos)} de {quantidade} gerados.\")\n"
      ],
      "metadata": {
        "colab": {
          "base_uri": "https://localhost:8080/"
        },
        "id": "jKzE5fB4YwhF",
        "outputId": "8213e90a-a8fa-4d97-9ff1-85e1c6ee2680"
      },
      "execution_count": null,
      "outputs": [
        {
          "output_type": "stream",
          "name": "stdout",
          "text": [
            "CPFs gerados e validados com sucesso!\n",
            "Tempo total: 28.448564291000366 segundos\n",
            "Total de CPFs válidos: 10096 de 1000000 gerados.\n"
          ]
        }
      ]
    },
    {
      "cell_type": "markdown",
      "source": [
        "\n",
        "## Construção com biblioteca científica: Tensorflow\n",
        "\n",
        "Nesta seção, você verá o validador de CPF utilizando a biblioteca científica Tensorflow."
      ],
      "metadata": {
        "id": "6gsJkeL3IHs3"
      }
    },
    {
      "cell_type": "code",
      "source": [
        "def gerar_e_validar_cpfs_otimizado(quantidade=1):\n",
        "    \"\"\"\n",
        "    Gera um tensor de alta dimensão para armazenar os cpfs e valida os CPFs aleatórios que satisfazem a equação.\n",
        "    Retorna os CPFs válidos para uma matriz booleana.\n",
        "    \"\"\"\n",
        "\n",
        "    # Gerar CPFs aleatórios como uma matriz coluna de tamanho quantidade\n",
        "    cpfs = tf.random.uniform((quantidade, 9), minval=0, maxval=10, dtype=tf.int64)\n",
        "\n",
        "    # Calcular os dígitos verificadores\n",
        "    cpfs_digito_1 = (11 - tf.reduce_sum(cpfs * [10, 9, 8, 7, 6, 5, 4, 3, 2], axis=1) % 11)\n",
        "    cpfs_digito_2 = (11 - tf.reduce_sum(tf.concat([cpfs, tf.expand_dims(cpfs_digito_1, axis=1)], axis=1) * [0, 10, 9, 8, 7, 6, 5, 4, 3, 2], axis=1) % 11)\n",
        "\n",
        "   # Verificar se os CPFs são válidos comparando os últimos dois dígitos gerados com os dígitos calculados\n",
        "    cpfs_validos = tf.reduce_all(tf.concat([cpfs[:, :-2], tf.expand_dims(cpfs_digito_1, axis=1), tf.expand_dims(cpfs_digito_2, axis=1)], axis=1) == cpfs, axis=1)\n",
        "\n",
        "\n",
        "    return cpfs.numpy(), cpfs_validos.numpy()\n",
        "\n",
        "\n",
        "# Medir o tempo de execução para gerar e validar os CPFs\n",
        "start_time = time.time()\n",
        "\n",
        "# Definindo a quantidade de CPFs.\n",
        "quantidade = 10000000\n",
        "print(f\"Gerando e validando {quantidade} CPFs aleatórios...\")\n",
        "cpfs_gerados, cpfs_validos = gerar_e_validar_cpfs_otimizado(quantidade=quantidade)\n",
        "\n",
        "# Encerramento do cronomêtro.\n",
        "end_time = time.time()\n",
        "elapsed_time = end_time - start_time\n",
        "\n",
        "# Exibição do resultado.\n",
        "print(\"CPFs gerados e validados com sucesso!\")\n",
        "print(f\"Tempo total: {elapsed_time} segundos\")\n",
        "print(f\"Total de CPFs válidos: {np.sum(cpfs_validos)} de {quantidade} gerados.\")\n"
      ],
      "metadata": {
        "colab": {
          "base_uri": "https://localhost:8080/"
        },
        "id": "8CPI7exNmsUX",
        "outputId": "806c1bde-5a75-4726-d39d-2de7354eada6"
      },
      "execution_count": null,
      "outputs": [
        {
          "output_type": "stream",
          "name": "stdout",
          "text": [
            "Gerando e validando 10000000 CPFs aleatórios...\n",
            "CPFs gerados e validados com sucesso!\n",
            "Tempo total: 5.424295902252197 segundos\n",
            "Total de CPFs válidos: 66554 de 10000000 gerados.\n"
          ]
        }
      ]
    }
  ]
}